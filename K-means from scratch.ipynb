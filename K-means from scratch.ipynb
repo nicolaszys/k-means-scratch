{
 "cells": [
  {
   "cell_type": "markdown",
   "metadata": {},
   "source": [
    "Sources :  \n",
    "- https://medium.com/@rishit.dagli/build-k-means-from-scratch-in-python-e46bf68aa875\n",
    "- https://medium.com/machine-learning-algorithms-from-scratch/k-means-clustering-from-scratch-in-python-1675d38eee42\n",
    "- https://towardsdatascience.com/k-means-clustering-from-scratch-6a9d19cafc25"
   ]
  },
  {
   "cell_type": "markdown",
   "metadata": {},
   "source": [
    "Videos :  \n",
    "- https://www.youtube.com/watch?v=8nOIB5LDiWo  \n",
    "Partie 1\n",
    "- https://www.youtube.com/watch?list=PLQVvvaa0QuDfKTOs3Keq_kaG2P55YRn5v&time_continue=114&v=H4JSN_99kig&feature=emb_logo  \n",
    "Partie 2  \n",
    "https://www.youtube.com/watch?v=HRoeYblYhkg&list=PLQVvvaa0QuDfKTOs3Keq_kaG2P55YRn5v&index=38"
   ]
  },
  {
   "cell_type": "markdown",
   "metadata": {},
   "source": [
    "Algorithm :\n",
    "1. Randomly initialize K centroids\n",
    "2. Assign each data point to the centroid it is closest to\n",
    "3. Recompute the centroid based off of the mean of the poinst assigned to the original centroid\n",
    "4. Repeat steps two and three until we the stopping creteria has been reached"
   ]
  },
  {
   "cell_type": "markdown",
   "metadata": {},
   "source": [
    "Optimizing :\n",
    "- Euclidean (squared) distance\n",
    "- Sum of squared distances of each point assigned to its cluster\n",
    "- r is an indicator function for whether th epoint is assigned to cluster k"
   ]
  },
  {
   "cell_type": "code",
   "execution_count": 1,
   "metadata": {},
   "outputs": [],
   "source": [
    "import matplotlib.pyplot as plt\n",
    "from matplotlib import style\n",
    "style.use('ggplot')\n",
    "import numpy as np\n",
    "from sklearn.cluster import KMeans"
   ]
  },
  {
   "cell_type": "code",
   "execution_count": 4,
   "metadata": {},
   "outputs": [
    {
     "data": {
      "image/png": "[encoded data removed]",
      "text/plain": [
       "<Figure size 432x288 with 1 Axes>"
      ]
     },
     "metadata": {},
     "output_type": "display_data"
    }
   ],
   "source": [
    "X = np.array([[1, 2], [1.5,1.8], [5, 8], [8, 8], [1, 0.6],[9, 11]])\n",
    "\n",
    "#clf = KMeans(n_clusters=8)\n",
    "#clf.fit(X)\n",
    "\n",
    "#centroids = clf.cluster_centers_\n",
    "#labels = clf.labels_\n",
    "\n",
    "plt.scatter(X[:,0], X[:,1], s=150)\n",
    "plt.show()\n",
    "\n",
    "colors = 10*['g','r','c','b','k']"
   ]
  },
  {
   "cell_type": "code",
   "execution_count": null,
   "metadata": {},
   "outputs": [],
   "source": [
    "class K_means:\n",
    "    def __init__(self, k=2, tol=0.001, max_iter=300):\n",
    "        self.k = k\n",
    "        self.tol = tol\n",
    "        self.max_iter = max_iter\n",
    "    \n",
    "    def fit(self,data):\n",
    "\n",
    "        sef.centroids = {}\n",
    "        \n",
    "        for i in range(self.k):\n",
    "            self.centroids[i] = data[i]\n",
    "# for every iterations we are going clearing out the classification because :\n",
    "# centroid, always going to have a 0 & 1 index or key\n",
    "# but the value is going to change so you're always going to have the same number of centroids\n",
    "# but here for the classifcations, that's going to change every time the centroid changes\n",
    "# So we emplty tat out and redo the classification every single time\n",
    "        for i in range(self.max_iter):\n",
    "            self.classifications = {}\n",
    "            \n",
    "            for i in range(self.k):\n",
    "                self.classifications[i] = []\n",
    "# X should be the data               \n",
    "            for featureset in X:\n",
    "# Creating a list that is being populated with k number of values because for centroid\n",
    "# and self centroids that contrains K numbers of centroids so 0 and 1 so the zeoeth index\n",
    "# in this list will be the 0 basically the distance to the zero(th) with centroid\n",
    "# And then the first(th) element will be the distance from that data point to the centroid one \n",
    "                distances = [np.linalg.norm(featureset-self.centroids[centroids]) for centroid in self.centroids]\n",
    "                classification = distances.index(min(distances))\n",
    "                self.classifications[classification].append(featureset)\n",
    "# we have to do this because object inheritance\n",
    "# we are trying to compare the two centroids so we can find how much they have changed\n",
    "# So we can use the tolerance value \n",
    "            prev_centroids = dict(self.centroids)\n",
    "#\n",
    "            for classification in self.classifications:\n",
    "                pass\n",
    "# it is going to take that basically array value and it's going to take the average of all of the classifications that we have \n",
    "# So, I am going to take the average dataset\n",
    "# It is going to find the centroid for all of the values that are of that previous centroid classification\n",
    "# This is findind the mean of all the features for any given class\n",
    "# And then it's remaking that centroid, redefines the centroid now\n",
    "\n",
    "                #self.centroids[classfication] = np.average(self.classifications[classification], axis=0)\n",
    "            optimized = True\n",
    "        \n",
    "            for c in self.centroids:\n",
    "                original_centroid = prev_centroids[c]\n",
    "                current_centroid = self.centroids[c]\n",
    "                if np.sum((current_centroid - original_centroid)/original_centroid*100.0) > self.tol:\n",
    "                    optimized = False\n",
    "    \n",
    "    def predict(self,data):\n",
    "        pass\n",
    "    \n",
    " "
   ]
  },
  {
   "cell_type": "code",
   "execution_count": null,
   "metadata": {},
   "outputs": [],
   "source": []
  },
  {
   "cell_type": "code",
   "execution_count": null,
   "metadata": {},
   "outputs": [],
   "source": [
    "# autre source : \n",
    "k = 4\n",
    "cluster_vars = []\n",
    "centroids = [cluster_array[i+2] for i in range(k)]\n",
    "clusters = assign_clusters(centroids, cluster_array)\n",
    "initial_clusters = clusters\n",
    "print(0, round(np.mean(calc_centroid_variance(clusters, cluster_array))))\n",
    "for i in range(20):\n",
    "    centroids = calc_centroids(clusters, cluster_array)\n",
    "    clusters = assign_clusters(centroids, cluster_array)\n",
    "    cluster_var = np.mean(calc_centroid_variance(clusters, \n",
    "                                                 cluster_array))\n",
    "    cluster_vars.append(cluster_var)\n",
    "    print(i+1, round(cluster_var))"
   ]
  }
 ],
 "metadata": {
  "kernelspec": {
   "display_name": "Python 3",
   "language": "python",
   "name": "python3"
  },
  "language_info": {
   "codemirror_mode": {
    "name": "ipython",
    "version": 3
   },
   "file_extension": ".py",
   "mimetype": "text/x-python",
   "name": "python",
   "nbconvert_exporter": "python",
   "pygments_lexer": "ipython3",
   "version": "3.7.4"
  }
 },
 "nbformat": 4,
 "nbformat_minor": 4
}
